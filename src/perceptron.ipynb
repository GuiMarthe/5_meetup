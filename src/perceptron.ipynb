{
 "cells": [
  {
   "cell_type": "markdown",
   "metadata": {},
   "source": [
    "# Modeling a Perceptron\n",
    "\n",
    "To show the behavior of a perceptron, we will use a very simple one: a perceptron with a Heavyside activation function."
   ]
  },
  {
   "cell_type": "code",
   "execution_count": 1,
   "metadata": {
    "collapsed": false
   },
   "outputs": [],
   "source": [
    "import numpy as np\n",
    "import pandas as pd\n",
    "import inspect\n",
    "\n",
    "from perceptron import Perceptron"
   ]
  },
  {
   "cell_type": "code",
   "execution_count": 3,
   "metadata": {
    "collapsed": false
   },
   "outputs": [
    {
     "name": "stdout",
     "output_type": "stream",
     "text": [
      "class Perceptron:\n",
      "    \n",
      "    def __init__(self, num_inputs, activation_threshold, learn_const):\n",
      "        self.num_inputs = num_inputs\n",
      "        self.activation_threshold = activation_threshold\n",
      "        self.learn_const = learn_const\n",
      "        self.inputs = np.zeros(self.num_inputs)\n",
      "        self.weights = np.random.rand(self.num_inputs)\n",
      "\n",
      "    def __repr__(self):\n",
      "        return \"len inputs {}, act threshold {}, learn c {}, weights {}\".format(\n",
      "            self.num_inputs, self.activation_threshold, self.learn_const, self.weights\n",
      "        )\n",
      "\n",
      "    def feed_forward(self, inputs):\n",
      "        return np.sum(inputs * self.weights)\n",
      "    \n",
      "    def activation_function(self, value):\n",
      "        if value > self.activation_threshold:\n",
      "            return 1\n",
      "        return 0\n",
      "\n",
      "    def activate_neuron(self, inputs):\n",
      "        value = self.feed_forward(inputs)\n",
      "        return self.activation_function(value)\n",
      "\n",
      "    def train(self, inputs, target):\n",
      "        attempt = self.activate_neuron(inputs)\n",
      "        error = target - attempt\n",
      "        self.weights += inputs * error * self.learn_const\n",
      "\n"
     ]
    }
   ],
   "source": [
    "print inspect.getsource(Perceptron)"
   ]
  },
  {
   "cell_type": "code",
   "execution_count": 2,
   "metadata": {
    "collapsed": false
   },
   "outputs": [],
   "source": [
    "inputs = np.array([0.2, 12.2,0.98])\n",
    "pc = Perceptron(len(inputs), 0.5, 0.01)"
   ]
  },
  {
   "cell_type": "markdown",
   "metadata": {},
   "source": [
    "The perceptron was initialized with random weights to start. "
   ]
  },
  {
   "cell_type": "code",
   "execution_count": 3,
   "metadata": {
    "collapsed": false
   },
   "outputs": [
    {
     "data": {
      "text/plain": [
       "len inputs 3, act threshold 0.5, learn c 0.01, weights [ 0.95371192  0.17850271  0.22654741]"
      ]
     },
     "execution_count": 3,
     "metadata": {},
     "output_type": "execute_result"
    }
   ],
   "source": [
    "pc"
   ]
  },
  {
   "cell_type": "markdown",
   "metadata": {},
   "source": [
    "## The "
   ]
  },
  {
   "cell_type": "code",
   "execution_count": 4,
   "metadata": {
    "collapsed": false
   },
   "outputs": [
    {
     "data": {
      "text/plain": [
       "1"
      ]
     },
     "execution_count": 4,
     "metadata": {},
     "output_type": "execute_result"
    }
   ],
   "source": [
    "pc.activate_neuron(inputs)"
   ]
  },
  {
   "cell_type": "code",
   "execution_count": null,
   "metadata": {
    "collapsed": true
   },
   "outputs": [],
   "source": []
  }
 ],
 "metadata": {
  "kernelspec": {
   "display_name": "Python 2",
   "language": "python",
   "name": "python2"
  },
  "language_info": {
   "codemirror_mode": {
    "name": "ipython",
    "version": 2
   },
   "file_extension": ".py",
   "mimetype": "text/x-python",
   "name": "python",
   "nbconvert_exporter": "python",
   "pygments_lexer": "ipython2",
   "version": "2.7.6"
  }
 },
 "nbformat": 4,
 "nbformat_minor": 1
}
